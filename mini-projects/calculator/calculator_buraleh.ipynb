{
 "cells": [
  {
   "cell_type": "markdown",
   "metadata": {},
   "source": [
    "## Creating a Calculator"
   ]
  },
  {
   "cell_type": "markdown",
   "metadata": {},
   "source": [
    "### Final Design\n",
    "\n",
    "For each week we always want to lay out the final design. As this week is based\n",
    "around the logic rather than how it looks, we’ll lay out the steps necessary to build our\n",
    "calculator:\n",
    "\n",
    "```\n",
    "1. Ask the user for the calculation they would like to perform.\n",
    "2. Ask the user for the numbers they would like to run the operation\n",
    "on.\n",
    "3. Set up try/except clause for mathematical operation.\n",
    "    a. Convert numbers input to floats.\n",
    "    b. Perform operation and print result.\n",
    "    c. If an exception is hit, print error.\n",
    "```"
   ]
  },
  {
   "cell_type": "code",
   "execution_count": 12,
   "metadata": {},
   "outputs": [
    {
     "name": "stdin",
     "output_type": "stream",
     "text": [
      "Enter which operation you'd like to use (+,-,*,/,%,**):  +\n",
      "Enter a valid first number:  2\n",
      "Enter a valid first number:  3\n"
     ]
    },
    {
     "name": "stdout",
     "output_type": "stream",
     "text": [
      "2.0 + 3.0 = 5.0\n"
     ]
    }
   ],
   "source": [
    "import operator # 2\n",
    "\n",
    "# step 1: create a mapping of the string representations of the available operations to\n",
    "#         their corresponding functions from the operator module\n",
    "ops = {'+': operator.add,\n",
    "       '-': operator.sub,\n",
    "       '*': operator.mul,\n",
    "       '/': operator.truediv,\n",
    "       '%': operator.mod,\n",
    "       '**': operator.pow} # 1, 3\n",
    "\n",
    "# step 2: query the user for a binary operation to use\n",
    "while True:\n",
    "    user_op = input(\"Enter which operation you'd like to use (+,-,*,/,%,**): \")\n",
    "    if user_op in ops.keys():\n",
    "        break\n",
    "    else:\n",
    "        print(\"Invalid input: Please select from (+,-,*,/,%,**): \") # 4\n",
    "        \n",
    "# step 3: alert the user that the order of operands matter for some operations\n",
    "if user_op in ['-', '/', '%', '**']:\n",
    "    print(f\"You selected: {user_op}\")\n",
    "    print(f\"Please bear in mind that since {user_op} is non-commutative, the order of the operands will matter.\")\n",
    "    \n",
    "# step 4: query the user for two numbers\n",
    "user_nums = []\n",
    "while len(user_nums) < 2:\n",
    "    try:\n",
    "        user_nums.append(float(input(\"Enter a valid first number: \")))\n",
    "    except ValueError as ve:\n",
    "        print(f\"Error: {ve}\")\n",
    "        print(\"Try again!\")\n",
    "\n",
    "# unpack the user input numbers into separate identifiers\n",
    "user_n1, user_n2 = user_nums\n",
    "\n",
    "# step 5: format and print the result of the calculation\n",
    "result = ops[user_op](user_n1, user_n2)\n",
    "print(f\"{user_n1} {user_op} {user_n2} = {result}\") # 5"
   ]
  },
  {
   "cell_type": "markdown",
   "metadata": {},
   "source": [
    "### Summary of changes I've made from Milliken:\n",
    "\n",
    "1. Made a mapping of universally understood representations of the operations to their respective implementations in Python.\n",
    "2. Used built-in operator module to make (1) more explicit.\n",
    "3. Added optional operations mod and power.\n",
    "4. User is queried until valid inputs are enterred.\n",
    "5. Generalised the print statement to a single line without losing display capability."
   ]
  }
 ],
 "metadata": {
  "kernelspec": {
   "display_name": "Python 3",
   "language": "python",
   "name": "python3"
  },
  "language_info": {
   "codemirror_mode": {
    "name": "ipython",
    "version": 3
   },
   "file_extension": ".py",
   "mimetype": "text/x-python",
   "name": "python",
   "nbconvert_exporter": "python",
   "pygments_lexer": "ipython3",
   "version": "3.7.7"
  }
 },
 "nbformat": 4,
 "nbformat_minor": 4
}
