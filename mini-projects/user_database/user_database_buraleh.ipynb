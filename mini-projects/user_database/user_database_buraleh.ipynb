{
 "cells": [
  {
   "cell_type": "markdown",
   "metadata": {},
   "source": [
    "## Creating a User Database with CSV Files"
   ]
  },
  {
   "cell_type": "markdown",
   "metadata": {},
   "source": [
    "### Final Design\n",
    "\n",
    "This week’s project is all about logic. We need to understand how to set up a step-by-step\n",
    "process for logging users in and out.\n",
    "\n",
    "There are three main parts to this program, registering\n",
    "a user, logging a user in, and the main loop that will run the program.\n",
    "\n",
    "Knowing that the irst two are tasks, we can make functions out of them and call them when necessary in the\n",
    "main loop. Let’s go ahead and lay out the logical process for this program:\n",
    "\n",
    "```\n",
    "1. Check to see if user is logged in.\n",
    "    a. If logged in, ask if they would like to log out/quit.\n",
    "        i. Either quit or log out user and restart.\n",
    "    b. Else, ask if they would like to log in/register/quit.\n",
    "        i. If log in, ask user for e-mail/password.\n",
    "            1. If correct, log user in and restart.\n",
    "            2. Else, display error and restart.\n",
    "        ii. If register, ask for e-mail/password/password2.\n",
    "            1. If passwords match, save user and restart.\n",
    "            2. Else, display error and restart.\n",
    "        iii. If quit, say thank you and exit program.\n",
    "```"
   ]
  },
  {
   "cell_type": "code",
   "execution_count": 17,
   "metadata": {},
   "outputs": [
    {
     "name": "stdout",
     "output_type": "stream",
     "text": [
      "1. Login\n",
      "2. Register\n",
      "3. Quit\n"
     ]
    },
    {
     "name": "stdin",
     "output_type": "stream",
     "text": [
      "What would you like to do?  Login\n",
      "Press any key to begin logging in, 'quit' to quit:  f\n",
      "E-mail:  noorudin_buraleh@hotmail.co.uk\n",
      "Enter the password for noorudin_buraleh@hotmail.co.uk:  ·········\n"
     ]
    },
    {
     "name": "stdout",
     "output_type": "stream",
     "text": [
      "You are now logged in!\n",
      "1. Logout\n",
      "2. Quit\n"
     ]
    },
    {
     "name": "stdin",
     "output_type": "stream",
     "text": [
      "What would you like to do?  logout\n"
     ]
    },
    {
     "name": "stdout",
     "output_type": "stream",
     "text": [
      "1. Login\n",
      "2. Register\n",
      "3. Quit\n"
     ]
    },
    {
     "name": "stdin",
     "output_type": "stream",
     "text": [
      "What would you like to do?  quit\n"
     ]
    },
    {
     "name": "stdout",
     "output_type": "stream",
     "text": [
      "Thank you for using our program!\n"
     ]
    }
   ],
   "source": [
    "# import necessary packages\n",
    "import csv\n",
    "import re\n",
    "from IPython.display import clear_output\n",
    "from getpass import getpass\n",
    "\n",
    "# ------------- helper functions ------------- # 4\n",
    "def is_valid_email(email: str) -> bool: # 2\n",
    "    \"\"\"\n",
    "    Returns a bool indicating a match against a universal email pattern.\n",
    "    \"\"\"\n",
    "    PATTERN = re.compile(r\"\\b[\\w\\.]+@[\\w]+\\.[a-zA-Z]{2,}\\b\")\n",
    "    return bool(re.match(PATTERN, email))\n",
    "\n",
    "def is_registered_email(email: str) -> bool:\n",
    "    \"\"\"\n",
    "    Checks whether an email is already registered in the database\n",
    "    \"\"\"\n",
    "    with open(\"users.csv\", mode = \"r\") as f:\n",
    "        reader = csv.reader(f, delimiter = \",\")\n",
    "        return any(email == row[0] for row in reader)\n",
    "\n",
    "def matching_passwords(pass1: str, pass2: str) -> bool:\n",
    "    return pass1 == pass1\n",
    "\n",
    "def correct_password(email: str, password: str) -> bool:\n",
    "    \"\"\"\n",
    "    Checks if the given password is associated with the registered email\n",
    "    \"\"\"\n",
    "    with open(\"users.csv\", mode = \"r\") as f:\n",
    "        reader = csv.reader(f, delimiter = \",\")\n",
    "        for row in reader:\n",
    "            if row[0] == email:\n",
    "                if row[1] == password:\n",
    "                    return True        \n",
    "        return False\n",
    "    \n",
    "def logout_user() -> bool:\n",
    "    \"\"\"\n",
    "    Logs the user out if logged in.\n",
    "    \"\"\"\n",
    "    global logged_in\n",
    "    if logged_in:\n",
    "        print(\"Your are now logged out!\")\n",
    "        return not logged_in\n",
    "    else:\n",
    "        print(\"You are already not logged in!\")\n",
    "        return logged_in\n",
    "\n",
    "# ------------- handling user registration -------------\n",
    "def register_user() -> bool:\n",
    "    with open(\"users.csv\", mode = \"a\", newline = \"\") as f:\n",
    "        # loop to ensure valid credentials are met.\n",
    "        flag = False\n",
    "        while not flag:\n",
    "            user_confirm = input(\"Press any key to begin registering you info, 'quit' to quit: \").casefold()\n",
    "            \n",
    "            if user_confirm == \"quit\": \n",
    "                break\n",
    "            \n",
    "            # verify the email\n",
    "            email = input(\"E-mail: \")\n",
    "            if not is_valid_email(email):\n",
    "                print(\"Invalid email submitted. Try again or quit.\")\n",
    "                continue\n",
    "            if is_registered_email(email):\n",
    "                print(f\"{email} is already in our database. Enter a different email\")\n",
    "                continue\n",
    "            \n",
    "            # verify the password\n",
    "            password1 = getpass(\"Password: \") # 5\n",
    "            password2 = getpass(\"Re-type password: \") # 5\n",
    "            if not matching_passwords(password1, password2):\n",
    "                print(\"Non-matching passwords enterred. Try again or quit!\")\n",
    "                continue\n",
    "                \n",
    "            # if the flow of control has reached this far, we have obtained value\n",
    "            # credentials from the user - prep the csv.writer and update database\n",
    "            writer = csv.writer(f, delimiter = \",\")\n",
    "            writer.writerow([email, password1])\n",
    "            print(\"Successful registry!\")\n",
    "            flag = True\n",
    "        return False # this is for the 'logged_in' variable in the main loop\n",
    "            \n",
    "# ------------- handling user login -------------\n",
    "def login_user() -> bool:\n",
    "    flag = False\n",
    "    while not flag:\n",
    "        user_confirm = input(\"Press any key to begin logging in, 'quit' to quit: \").casefold()\n",
    "        \n",
    "        # terminal condition\n",
    "        if user_confirm == \"quit\":\n",
    "            break\n",
    "            \n",
    "        # verify the email\n",
    "        user_email = input(\"E-mail: \")\n",
    "        if not is_valid_email(user_email):\n",
    "            print(\"Invalid email submitted. Try again or quit.\")\n",
    "            continue\n",
    "        # this time having a registered email is a good thing.\n",
    "        if not is_registered_email(user_email):\n",
    "            print(f\"{user_email} is not recognized in our database. Please enter a registered email or sign up.\")\n",
    "            continue\n",
    "            \n",
    "        # if the flow of control has reached this stage, we have a valid and registered \n",
    "        # email on our hands. Query the user for the corresponding password and verify its validity.\n",
    "        user_password = getpass(f\"Enter the password for {user_email}: \") # 5\n",
    "        if correct_password(user_email, user_password):\n",
    "            print(\"You are now logged in!\")\n",
    "            flag = True\n",
    "            return True\n",
    "        else:\n",
    "            print(\"Incorrect password! Try again from the top!\")\n",
    "            continue\n",
    "            \n",
    "# ------------- creating the main loop -------------\n",
    "# variables for main loop\n",
    "active = True\n",
    "logged_in = False\n",
    "CHOICES = ['logout', 'login', 'register', 'quit']\n",
    "mapping = {'login': login_user,\n",
    "           'logout': logout_user,\n",
    "           'register': register_user} # 7\n",
    "\n",
    "# main loop\n",
    "while active:\n",
    "    if logged_in:\n",
    "        print(\"1. Logout\")\n",
    "        print(\"2. Quit\")\n",
    "    else:\n",
    "        print(\"1. Login\")\n",
    "        print(\"2. Register\")\n",
    "        print(\"3. Quit\")\n",
    "        \n",
    "    user_choice = input(\"What would you like to do? \").lower()\n",
    "    \n",
    "    # terminal clause   # 3\n",
    "    if user_choice == \"quit\":\n",
    "        active = False\n",
    "        print(\"Thank you for using our program!\")\n",
    "        break\n",
    "    \n",
    "    # clause for invalid inputs\n",
    "    if user_choice not in CHOICES:\n",
    "        print(\"Please select a valid choice.\")\n",
    "        continue # 6\n",
    "        \n",
    "    # -- primary business logic --\n",
    "    logged_in = mapping[user_choice]() # 7"
   ]
  },
  {
   "cell_type": "markdown",
   "metadata": {},
   "source": [
    "### Summary of Changes I've Made from Milliken:\n",
    "\n",
    "1. Used a more concise form of membership testing to verify that the user is logging in with a registered and valid email/password\n",
    "2. Used regular expression pattern matching with the re module to verify the validity of an input email.\n",
    "3. Moved the terminal and logout conditions above the primary business logic section.\n",
    "4. Encapsulated the logic for handling valid credentials to a series of separate helper functions, in line with the single responsibility principle.\n",
    "5. Used the getpass function from the built-in module getpass, to give the user a more familiar password-entering experience.\n",
    "6. Verified that the user made a valid, available choice in the main loop.\n",
    "7. Condensed the primary business logic to a single line by encapsulating all functionality to functions associated with user input by a dictionary"
   ]
  }
 ],
 "metadata": {
  "kernelspec": {
   "display_name": "Python 3",
   "language": "python",
   "name": "python3"
  },
  "language_info": {
   "codemirror_mode": {
    "name": "ipython",
    "version": 3
   },
   "file_extension": ".py",
   "mimetype": "text/x-python",
   "name": "python",
   "nbconvert_exporter": "python",
   "pygments_lexer": "ipython3",
   "version": "3.7.7"
  }
 },
 "nbformat": 4,
 "nbformat_minor": 4
}
