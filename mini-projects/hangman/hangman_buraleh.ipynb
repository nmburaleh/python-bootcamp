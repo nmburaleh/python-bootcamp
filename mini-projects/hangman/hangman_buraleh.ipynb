{
 "cells": [
  {
   "cell_type": "markdown",
   "metadata": {},
   "source": [
    "## Creating Hangman"
   ]
  },
  {
   "cell_type": "markdown",
   "metadata": {},
   "source": [
    "### Final Design\n",
    "\n",
    "As always, we want to lay out our final design before we begin coding. This week will\n",
    "not be based around graphics, like last week, so we’ll focus on the logic and the steps\n",
    "necessary to run the program. Luckily for us, the logic is essentially the steps needed to\n",
    "play the game:\n",
    "```\n",
    "1. Select a word to play with.\n",
    "2. Ask user for input.\n",
    "3. Check if guess is correct.\n",
    "    a. If it is, show the letter in the proper place.\n",
    "    b. If it isn’t, lose a life.\n",
    "4. Continue steps 2 and 3 until one of the following occurs:\n",
    "    a. The user guesses the word correctly.\n",
    "    b. The user loses all their lives.\n",
    "```"
   ]
  },
  {
   "cell_type": "code",
   "execution_count": 1,
   "metadata": {},
   "outputs": [
    {
     "name": "stdout",
     "output_type": "stream",
     "text": [
      "Incorrect, sorry but you lost a life\n",
      "You've ran out of lives, you lose!\n",
      "The word you were looking for was hair\n"
     ]
    }
   ],
   "source": [
    "# import statements\n",
    "from IPython.display import clear_output\n",
    "from faker import Faker\n",
    "from string import ascii_letters\n",
    "\n",
    "# declare game variables\n",
    "word = Faker().word() # 1\n",
    "found_letters = []\n",
    "lives_left = 7\n",
    "game_over = False\n",
    "\n",
    "# create an initial mapping of the letters in the word to _\n",
    "hidden_map = {char: '_' for char in word} # 2\n",
    "hidden_word = \" \".join(hidden_map.values())\n",
    "\n",
    "def hidden_word_modifier(mapping: dict, correct_guess: str) -> map:\n",
    "    for key, value in mapping.items():\n",
    "        if key == correct_guess:\n",
    "            mapping[correct_guess] = correct_guess\n",
    "    \n",
    "    return \" \".join(mapping.values())\n",
    "            \n",
    "# create main game loop\n",
    "while not game_over:\n",
    "    print(f\"Correctly guessed letters so far: {found_letters}\")\n",
    "    print(f\"Word to guess: {hidden_word}\")\n",
    "    print(f\"Lives left: {lives_left}\")\n",
    "    \n",
    "    user_ans = input(\"Type 'quit' or guess a letter: \").lower()\n",
    "    assert (user_ans == \"quit\" or\n",
    "            (len(user_ans) == 1 and\n",
    "             user_ans in ascii_letters)), \"Invalid input: only 'quit' or a single letter is allowed\"\n",
    "    \n",
    "    clear_output() # clear previous output\n",
    "    \n",
    "    # user escape clause\n",
    "    if user_ans == \"quit\": # 3\n",
    "        print(\"Thank you for playing\")\n",
    "        game_over = True # change flag\n",
    "        break\n",
    "    \n",
    "    # primary business logic\n",
    "    if (user_ans in word and\n",
    "        user_ans not in found_letters):\n",
    "        print(f\"Letter {user_ans} is a correct guess!\")\n",
    "        \n",
    "        # update letters found and hidden word displayed\n",
    "        found_letters.append(user_ans)   # 4\n",
    "        hidden_word = hidden_word_modifier(hidden_map, user_ans)\n",
    "        \n",
    "    elif user_ans in found_letters:\n",
    "        print(\"You already guessed that. Try again\")\n",
    "    else:\n",
    "        lives_left -= 1\n",
    "        print(\"Incorrect, sorry but you lost a life\")\n",
    "        \n",
    "    # terminal conditions\n",
    "    if not (lives_left > 0):\n",
    "        print(\"You've ran out of lives, you lose!\")\n",
    "        print(f\"The word you were looking for was '{word}'\") # 5\n",
    "        game_over = True\n",
    "    elif sorted(word) == sorted(found_letters):\n",
    "        print(\"Congratulations, you guessed it correctly!\")\n",
    "        game_over = True"
   ]
  },
  {
   "cell_type": "markdown",
   "metadata": {},
   "source": [
    "### Summary of changes I've made from Milliken:\n",
    "\n",
    "1. Used the third-party package Faker to randomly generate a word. (See: https://pypi.org/project/Faker/)\n",
    "2. Used a dictionary to map the letters of the word to letters found by user or _. Makes updating the values easier.\n",
    "3. Disjointed the if-clause testing for the 'quit' input from the conditional clauses that test for a single letter - which Buraleh calls the 'primary business logic'\n",
    "4. Correctly guessed letter is updated in the if-clause that tests for non-membership of correct inputs.\n",
    "5. Let the user know what the word was in the event that they run out of lives, because not doing so would be cruel."
   ]
  }
 ],
 "metadata": {
  "kernelspec": {
   "display_name": "Python 3",
   "language": "python",
   "name": "python3"
  },
  "language_info": {
   "codemirror_mode": {
    "name": "ipython",
    "version": 3
   },
   "file_extension": ".py",
   "mimetype": "text/x-python",
   "name": "python",
   "nbconvert_exporter": "python",
   "pygments_lexer": "ipython3",
   "version": "3.7.7"
  }
 },
 "nbformat": 4,
 "nbformat_minor": 4
}
